{
 "cells": [
  {
   "cell_type": "code",
   "metadata": {
    "id": "jlSkYfowTxsP",
    "outputId": "8c72269e-26b0-4a39-fac9-63984f2d3381",
    "colab": {
     "base_uri": "https://localhost:8080/"
    },
    "cell_id": "00001-7f389957-c695-48f2-8ce4-f16af6d7ee4b",
    "deepnote_to_be_reexecuted": false,
    "source_hash": "936db033",
    "execution_start": 1636526549239,
    "execution_millis": 8333,
    "deepnote_cell_type": "code"
   },
   "source": "# Start two meshcat server instances to use for the remainder of this notebook.\nfrom meshcat.servers.zmqserver import start_zmq_server_as_subprocess\nproc_planar, zmq_url_planar, web_url_planar = start_zmq_server_as_subprocess(server_args=['--ngrok_http_tunnel'])\nproc, zmq_url, web_url = start_zmq_server_as_subprocess(server_args=['--ngrok_http_tunnel'])\n\nimport numpy as np\nfrom ipywidgets import FloatSlider, ToggleButton\nfrom IPython.display import display, SVG\nimport pydot\n\nimport pydrake.all\nfrom pydrake.all import (\n    DiagramBuilder, LinearQuadraticRegulator, Saturation, SceneGraph, Simulator, \n    WrapToSystem, AddMultibodyPlantSceneGraph, Parser\n)\nfrom pydrake.examples.acrobot import AcrobotPlant, AcrobotGeometry\nfrom pydrake.systems.jupyter_widgets import WidgetSystem\nfrom pydrake.systems.primitives import ConstantVectorSource\nfrom pydrake.common.containers import namedview",
   "execution_count": 1,
   "outputs": []
  },
  {
   "cell_type": "markdown",
   "source": "# Dynamics of the Acrobot\n\nThe acrobot is a core example in Drake.  We could certainly load it from a .urdf file, but Drake offers an Acrobot implementation that makes it convenient to manipulate the parameters (and visualize the system with different parameters).",
   "metadata": {
    "id": "IDyBLmK1TxsR",
    "cell_id": "00002-096d8b4d-4ac0-4ce6-9648-ef8a52f4bc2e",
    "deepnote_cell_type": "markdown"
   }
  },
  {
   "cell_type": "code",
   "metadata": {
    "id": "goS75r2xTxsR",
    "cell_id": "00003-b6bc683b-b2b4-4c76-9050-dae3acd207bb",
    "deepnote_to_be_reexecuted": false,
    "source_hash": "f49c3c53",
    "execution_start": 1636526907263,
    "execution_millis": 12086,
    "deepnote_cell_type": "code"
   },
   "source": "builder = DiagramBuilder()\n#acrobot = builder.AddSystem(AcrobotPlant())\nacrobot, scene_graph = AddMultibodyPlantSceneGraph(builder, time_step=0.0)\nfile_name = \"double_pendulum.urdf\"\nParser(acrobot).AddModelFromFile(file_name)\nacrobot.Finalize()\n\n# Setup visualization\nvisualizer = pydrake.systems.meshcat_visualizer.ConnectMeshcatVisualizer(\n    builder, \n    scene_graph=scene_graph, \n    zmq_url=zmq_url_planar)\nvisualizer.vis.delete()\nvisualizer.set_planar_viewpoint(xmin=-4, xmax=4, ymin=-4, ymax=4)\n\n# Setup slider input\nu = np.array([-3,0])\ntorque_system = builder.AddSystem(ConstantVectorSource(u))\nbuilder.Connect(torque_system.get_output_port(0), acrobot.get_input_port(3))\n\ndiagram = builder.Build()\n\n# For reference, let's draw the diagram we've assembled:\n#display(SVG(pydot.graph_from_dot_data(diagram.GetGraphvizString())[0].create_svg()))\n\n# Set up a simulator to run this diagram\nsimulator = Simulator(diagram)\ncontext = simulator.get_mutable_context()\n\nstop_button = ToggleButton(value=False, description='Stop Simulation')\ndisplay(stop_button)\n\n# Set the initial conditions\ncontext.SetContinuousState([0, 0, 0, 0]) # theta1, theta2, theta1dot, theta2dot\ncontext.SetTime(0.0)\n\nif True:  # Then we're not just running as a test on CI.\n    simulator.set_target_realtime_rate(1.0)\n\n    while not stop_button.value:\n        simulator.AdvanceTo(simulator.get_context().get_time() + 1.0)\n    stop_button.value = False\nelse:\n    simulator.AdvanceTo(0.1)\n",
   "execution_count": 13,
   "outputs": [
    {
     "name": "stdout",
     "text": "Connecting to meshcat-server at zmq_url=tcp://127.0.0.1:6000...\nYou can open the visualizer by visiting the following URL:\nhttp://cbf1-52-90-221-115.ngrok.io/static/\nConnected to meshcat-server.\n",
     "output_type": "stream"
    },
    {
     "data": {
      "text/plain": "ToggleButton(value=False, description='Stop Simulation')",
      "application/vnd.jupyter.widget-view+json": {
       "version_major": 2,
       "version_minor": 0,
       "model_id": "e884cb73197846eab32a8eb670762a70"
      }
     },
     "metadata": {},
     "output_type": "display_data"
    },
    {
     "output_type": "error",
     "ename": "KeyboardInterrupt",
     "evalue": "",
     "traceback": [
      "\u001b[0;31m---------------------------------------------------------------------------\u001b[0m",
      "\u001b[0;31mKeyboardInterrupt\u001b[0m                         Traceback (most recent call last)",
      "\u001b[0;32m<ipython-input-13-a97ea113355b>\u001b[0m in \u001b[0;36m<module>\u001b[0;34m\u001b[0m\n\u001b[1;32m     39\u001b[0m \u001b[0;34m\u001b[0m\u001b[0m\n\u001b[1;32m     40\u001b[0m     \u001b[0;32mwhile\u001b[0m \u001b[0;32mnot\u001b[0m \u001b[0mstop_button\u001b[0m\u001b[0;34m.\u001b[0m\u001b[0mvalue\u001b[0m\u001b[0;34m:\u001b[0m\u001b[0;34m\u001b[0m\u001b[0;34m\u001b[0m\u001b[0m\n\u001b[0;32m---> 41\u001b[0;31m         \u001b[0msimulator\u001b[0m\u001b[0;34m.\u001b[0m\u001b[0mAdvanceTo\u001b[0m\u001b[0;34m(\u001b[0m\u001b[0msimulator\u001b[0m\u001b[0;34m.\u001b[0m\u001b[0mget_context\u001b[0m\u001b[0;34m(\u001b[0m\u001b[0;34m)\u001b[0m\u001b[0;34m.\u001b[0m\u001b[0mget_time\u001b[0m\u001b[0;34m(\u001b[0m\u001b[0;34m)\u001b[0m \u001b[0;34m+\u001b[0m \u001b[0;36m1.0\u001b[0m\u001b[0;34m)\u001b[0m\u001b[0;34m\u001b[0m\u001b[0;34m\u001b[0m\u001b[0m\n\u001b[0m\u001b[1;32m     42\u001b[0m     \u001b[0mstop_button\u001b[0m\u001b[0;34m.\u001b[0m\u001b[0mvalue\u001b[0m \u001b[0;34m=\u001b[0m \u001b[0;32mFalse\u001b[0m\u001b[0;34m\u001b[0m\u001b[0;34m\u001b[0m\u001b[0m\n\u001b[1;32m     43\u001b[0m \u001b[0;32melse\u001b[0m\u001b[0;34m:\u001b[0m\u001b[0;34m\u001b[0m\u001b[0;34m\u001b[0m\u001b[0m\n",
      "\u001b[0;31mKeyboardInterrupt\u001b[0m: "
     ]
    }
   ]
  },
  {
   "cell_type": "markdown",
   "source": "# LQR for the Acrobot",
   "metadata": {
    "id": "BC04dNKITxsT",
    "cell_id": "00006-7b207888-dc8f-4561-869c-b563bf977296",
    "deepnote_cell_type": "markdown"
   }
  },
  {
   "cell_type": "code",
   "metadata": {
    "id": "s1HmGb4ETxsU",
    "cell_id": "00007-5dd9c021-52a9-46ff-a13d-e9c2c3f4c051",
    "deepnote_to_be_reexecuted": false,
    "source_hash": "c88f503",
    "execution_start": 1636524149127,
    "execution_millis": 19960,
    "is_code_hidden": false,
    "deepnote_cell_type": "code"
   },
   "source": "from pydrake.examples.acrobot import (AcrobotInput, AcrobotGeometry, \n                                      AcrobotPlant, AcrobotState)\n\ndef acrobot_balancing_example():\n    def UprightState():\n        state = AcrobotState()\n        state.set_theta1(np.pi)\n        state.set_theta2(0.)\n        state.set_theta1dot(0.)\n        state.set_theta2dot(0.)\n        return state\n\n\n    def BalancingLQR():\n        # Design an LQR controller for stabilizing the Acrobot around the upright.\n        # Returns a (static) AffineSystem that implements the controller (in\n        # the original AcrobotState coordinates).\n\n        acrobot = AcrobotPlant()\n        context = acrobot.CreateDefaultContext()\n\n        input = AcrobotInput()\n        input.set_tau(0.)\n        acrobot.get_input_port(0).FixValue(context, input)\n\n        context.get_mutable_continuous_state_vector()\\\n            .SetFromVector(UprightState().CopyToVector())\n\n        Q = np.diag((10., 10., 1., 1.))\n        R = [1]\n\n        return LinearQuadraticRegulator(acrobot, context, Q, R)\n\n\n    builder = DiagramBuilder()\n    acrobot = builder.AddSystem(AcrobotPlant())\n\n    saturation = builder.AddSystem(Saturation(min_value=[-10], max_value=[10]))\n    builder.Connect(saturation.get_output_port(0), acrobot.get_input_port(0))\n    wrapangles = WrapToSystem(4)\n    wrapangles.set_interval(0, 0, 2. * np.pi)\n    wrapangles.set_interval(1, -np.pi, np.pi)\n    wrapto = builder.AddSystem(wrapangles)\n    builder.Connect(acrobot.get_output_port(0), wrapto.get_input_port(0))\n    controller = builder.AddSystem(BalancingLQR())\n    builder.Connect(wrapto.get_output_port(0), controller.get_input_port(0))\n    builder.Connect(controller.get_output_port(0), saturation.get_input_port(0))\n\n    # Setup visualization\n    scene_graph = builder.AddSystem(SceneGraph())\n    AcrobotGeometry.AddToBuilder(builder, acrobot.get_output_port(0), scene_graph)\n    visualizer = pydrake.systems.meshcat_visualizer.ConnectMeshcatVisualizer(\n        builder, \n        scene_graph=scene_graph, \n        zmq_url=zmq_url_planar)\n    visualizer.vis.delete()\n    visualizer.set_planar_viewpoint(xmin=-3.0, xmax=3.0, ymin=-3.0, ymax=4.0)\n\n    diagram = builder.Build()\n\n    # Set up a simulator to run this diagram\n    simulator = Simulator(diagram)\n    simulator.set_target_realtime_rate(1.0)\n    context = simulator.get_mutable_context()\n\n    # Simulate\n    duration = 4.0 # sets a shorter duration during testing\n    for i in range(5):\n        context.SetTime(0.)\n        context.SetContinuousState(UprightState().CopyToVector() +\n                                0.05 * np.random.randn(4,))\n        simulator.Initialize()\n        simulator.AdvanceTo(duration)\n\nacrobot_balancing_example()",
   "outputs": [
    {
     "name": "stdout",
     "text": "Connecting to meshcat-server at zmq_url=tcp://127.0.0.1:6002...\nYou can open the visualizer by visiting the following URL:\nhttp://a4b1-52-90-221-115.ngrok.io/static/\nConnected to meshcat-server.\n",
     "output_type": "stream"
    }
   ],
   "execution_count": null
  },
  {
   "cell_type": "markdown",
   "source": "# Balancing a 2D Segway (aka \"ballbot\")\n\nI'll also use this example to illustrate a little more about how one might build a new model in drake (using multibody plant).  I've included the URDF in this notebook directly as a string so that you can see it and easily play with it.\n\nhttps://en.wikipedia.org/wiki/Ballbot",
   "metadata": {
    "id": "TNai8YMxTxsZ",
    "cell_id": "00014-0263cbf2-0eb9-4b80-8bcc-4f744747c6db",
    "deepnote_cell_type": "markdown"
   }
  },
  {
   "cell_type": "code",
   "metadata": {
    "id": "7z9G94-GTxsZ",
    "cell_id": "00015-944ca0c2-aba4-4cb9-acaf-0d97c9c545f1",
    "deepnote_to_be_reexecuted": false,
    "source_hash": "913a5839",
    "execution_start": 1636524374428,
    "execution_millis": 10190,
    "is_code_hidden": true,
    "deepnote_cell_type": "code"
   },
   "source": "\nballbot_urdf = \"\"\"\n<?xml version=\"1.0\"?>\n\n<robot xmlns=\"http://drake.mit.edu\"\n xmlns:xsi=\"http://www.w3.org/2001/XMLSchema-instance\"\n name=\"BallBot\">\n\n  <link name=\"ground\">\n    <visual>\n      <origin xyz=\"0 0 -5\" rpy=\"0 0 0\" />\n      <geometry>\n        <box size=\"1000 1000 10\" />\n      </geometry>\n      <material>\n        <color rgba=\"0.93 .74 .4 1\" />\n      </material>\n    </visual>\n  </link>\n\n  <joint name=\"ground_weld\" type=\"fixed\">\n    <parent link=\"world\" />\n    <child link=\"ground\" />\n  </joint>\n\n  <link name=\"ball\">\n    <inertial>\n      <origin xyz=\"0 0 0\" rpy=\"0 0 0\" />\n      <mass value=\"5\" />\n      <inertia ixx=\".02\" ixy=\"0\" ixz=\"0\" iyy=\"0.02\" iyz=\"0\" izz=\"0.02\" />\n    </inertial>\n    <visual>\n      <origin xyz=\"0 0 0\" rpy=\"0 0 0\" />\n      <geometry>\n        <sphere radius=\".1\" />\n      </geometry>\n      <material>\n        <color rgba=\"0.25 0.52 0.96 1\" />\n      </material>\n    </visual>\n  </link>\n\n  <link name=\"bot\">\n    <inertial>\n      <origin xyz=\"0 0 .05\" rpy=\"0 0 0\" />\n      <mass value=\"4\" />\n      <inertia ixx=\"0.018\" ixy=\"0\" ixz=\"0\" iyy=\"0.018\" iyz=\"0\" izz=\"0.0288\" />\n    </inertial>\n    <visual>\n      <origin xyz=\"0 0 .05\" rpy=\"0 0 0\" />\n      <geometry>\n         <cylinder length=\".1\" radius=\".12\" />\n      </geometry>\n      <material>\n        <color rgba=\".61 .63 .67 1\" />\n      </material>\n    </visual>\n  </link>\n  \n  <joint name=\"x\" type=\"prismatic\">\n    <parent link=\"world\" />\n    <child link=\"ball\" />\n    <origin xyz=\"0 0 .1\" />\n    <axis xyz=\"1 0 0\" />\n    <dynamics damping=\"0.1\" />\n  </joint>\n\n  <joint name=\"theta\" type=\"continuous\">\n    <parent link=\"ball\" />\n    <child link=\"bot\" />\n    <origin xyz=\"0 0 0\" />\n    <axis xyz=\"0 1 0\" />\n    <dynamics damping=\"0.1\" />\n  </joint>\n\n  <transmission type=\"SimpleTransmission\" name=\"ball_torque\">\n    <actuator name=\"torque\" />\n    <joint name=\"theta\" />\n    <mechanicalReduction>1</mechanicalReduction>\n  </transmission>\n\n  <transmission type=\"SimpleTransmission\" name=\"ball_force\">\n    <actuator name=\"force\" />\n    <joint name=\"x\" />\n    <mechanicalReduction>.1</mechanicalReduction>\n  </transmission>\n</robot>\n\"\"\"\n\ndef ballbot_example():\n    def UprightState():\n        state = (0, 0, 0, 0)\n        return state\n\n\n    def BalancingLQR(plant):\n        # Design an LQR controller for stabilizing the CartPole around the upright.\n        # Returns a (static) AffineSystem that implements the controller (in\n        # the original CartPole coordinates).\n\n        context = plant.CreateDefaultContext()\n        plant.get_input_port().FixValue(context, [0])\n\n        context.get_mutable_continuous_state_vector().SetFromVector(UprightState())\n\n        Q = np.diag((10., 10., 1., 1.))\n        R = [1]\n\n        # MultibodyPlant has many (optional) input ports, so we must pass the\n        # input_port_index to LQR.\n        return LinearQuadraticRegulator(\n            plant,\n            context,\n            Q,\n            R)\n\n\n    def MakeBallBot():\n        builder = DiagramBuilder()\n        plant, scene_graph = AddMultibodyPlantSceneGraph(builder, time_step=0.0)\n        Parser(plant).AddModelFromString(ballbot_urdf, \"urdf\")\n        plant.Finalize()\n        # Applying a torque between the ball and the bot torques the bot, but also causes a \n        # force at the ground (the radius of the ball is entered as a gear reduction in the transmission).\n        B = np.array([[1],[1]])\n        gain = builder.AddSystem(pydrake.systems.primitives.MatrixGain(B))\n        gain.set_name(\"Actuator Mapping\")\n        builder.Connect(gain.get_output_port(), plant.get_actuation_input_port())\n        builder.ExportInput(gain.get_input_port(), \"torque\")\n        builder.ExportOutput(plant.get_state_output_port(), \"continuous_state\")\n        builder.ExportOutput(scene_graph.get_query_output_port(), \"query\")\n        return builder.Build()\n\n    builder = DiagramBuilder()\n    ballbot = builder.AddSystem(MakeBallBot())\n\n    controller = builder.AddSystem(BalancingLQR(ballbot))\n    controller.set_name(\"LQR Controller\")\n    builder.Connect(ballbot.GetOutputPort(\"continuous_state\"), controller.get_input_port())\n    builder.Connect(controller.get_output_port(),\n                    ballbot.get_input_port())\n\n    # Setup visualization\n    visualizer = pydrake.systems.meshcat_visualizer.ConnectMeshcatVisualizer(\n        builder, \n        output_port=ballbot.GetOutputPort(\"query\"),\n        zmq_url=zmq_url)\n    visualizer.vis.delete()\n    visualizer.vis['/Background'].set_property('visible', False)\n    #visualizer.set_planar_viewpoint(xmin=-2.5, xmax=2.5, ymin=-1.0, ymax=2.5)\n\n    diagram = builder.Build()\n    \n    # For reference, let's draw the diagram we've assembled:\n    display(SVG(pydot.graph_from_dot_data(diagram.GetGraphvizString())[0].create_svg()))\n\n    # Set up a simulator to run this diagram\n    simulator = Simulator(diagram)\n    simulator.set_target_realtime_rate(1.0)\n    context = simulator.get_mutable_context()\n    context.SetContinuousState(UprightState() + 0.0 * np.random.randn(4,) + np.array([1, 0, 0 ,0]))\n\n    # Simulate\n    duration = 10.0\n    simulator.AdvanceTo(duration)\n\nballbot_example()",
   "outputs": [
    {
     "name": "stdout",
     "text": "Connecting to meshcat-server at zmq_url=tcp://127.0.0.1:6003...\nYou can open the visualizer by visiting the following URL:\nhttp://bc26-52-90-221-115.ngrok.io/static/\nConnected to meshcat-server.\n",
     "output_type": "stream"
    },
    {
     "data": {
      "text/plain": "<IPython.core.display.SVG object>",
      "image/svg+xml": "<svg xmlns=\"http://www.w3.org/2000/svg\" xmlns:xlink=\"http://www.w3.org/1999/xlink\" width=\"1667pt\" height=\"550pt\" viewBox=\"0.00 0.00 1667.28 550.00\">\n<g id=\"graph0\" class=\"graph\" transform=\"scale(1 1) rotate(0) translate(4 546)\">\n<title>_82651216</title>\n<polygon fill=\"white\" stroke=\"transparent\" points=\"-4,4 -4,-546 1663.28,-546 1663.28,4 -4,4\"/>\n<g id=\"clust1\" class=\"cluster\">\n<title>cluster82651216diagram</title>\n<polygon fill=\"none\" stroke=\"black\" points=\"8,-8 8,-534 1651.28,-534 1651.28,-8 8,-8\"/>\n<text text-anchor=\"middle\" x=\"829.64\" y=\"-518.8\" font-family=\"Times,serif\" font-size=\"14.00\">82651216</text>\n</g>\n<g id=\"clust4\" class=\"cluster\">\n<title>cluster82651216subsystems</title>\n<polygon fill=\"none\" stroke=\"white\" points=\"16,-16 16,-503 1643.28,-503 1643.28,-16 16,-16\"/>\n</g>\n<g id=\"clust5\" class=\"cluster\">\n<title>cluster84142752diagram</title>\n<polygon fill=\"none\" stroke=\"black\" points=\"24,-24 24,-495 1461.28,-495 1461.28,-24 24,-24\"/>\n<text text-anchor=\"middle\" x=\"742.64\" y=\"-479.8\" font-family=\"Times,serif\" font-size=\"14.00\">drake/systems/Diagram@000000000503eaa0</text>\n</g>\n<g id=\"clust6\" class=\"cluster\">\n<title>cluster84142752inputports</title>\n<polygon fill=\"lightgrey\" stroke=\"lightgrey\" points=\"32,-336 32,-411 131.19,-411 131.19,-336 32,-336\"/>\n<text text-anchor=\"middle\" x=\"81.6\" y=\"-395.8\" font-family=\"Times,serif\" font-size=\"14.00\">input ports</text>\n</g>\n<g id=\"clust7\" class=\"cluster\">\n<title>cluster84142752outputports</title>\n<polygon fill=\"lightgrey\" stroke=\"lightgrey\" points=\"1259.19,-335 1259.19,-464 1453.28,-464 1453.28,-335 1259.19,-335\"/>\n<text text-anchor=\"middle\" x=\"1356.23\" y=\"-448.8\" font-family=\"Times,serif\" font-size=\"14.00\">output ports</text>\n</g>\n<g id=\"clust8\" class=\"cluster\">\n<title>cluster84142752subsystems</title>\n<polygon fill=\"none\" stroke=\"white\" points=\"151.19,-32 151.19,-464 1239.19,-464 1239.19,-32 151.19,-32\"/>\n</g>\n<!-- _84142752_u0 -->\n<g id=\"node1\" class=\"node\">\n<title>_84142752_u0</title>\n<ellipse fill=\"none\" stroke=\"blue\" cx=\"81.6\" cy=\"-362\" rx=\"41.69\" ry=\"18\"/>\n<text text-anchor=\"middle\" x=\"81.6\" y=\"-358.3\" font-family=\"Times,serif\" font-size=\"14.00\">torque</text>\n</g>\n<!-- 84743568 -->\n<g id=\"node6\" class=\"node\">\n<title>84743568</title>\n<polygon fill=\"none\" stroke=\"black\" points=\"159.19,-246 159.19,-292 305.19,-292 305.19,-246 159.19,-246\"/>\n<text text-anchor=\"middle\" x=\"232.19\" y=\"-276.8\" font-family=\"Times,serif\" font-size=\"14.00\">Actuator Mapping</text>\n<polyline fill=\"none\" stroke=\"black\" points=\"159.19,-269 305.19,-269 \"/>\n<text text-anchor=\"middle\" x=\"195.69\" y=\"-253.8\" font-family=\"Times,serif\" font-size=\"14.00\">u0</text>\n<polyline fill=\"none\" stroke=\"black\" points=\"232.19,-246 232.19,-269 \"/>\n<text text-anchor=\"middle\" x=\"268.69\" y=\"-253.8\" font-family=\"Times,serif\" font-size=\"14.00\">y0</text>\n</g>\n<!-- _84142752_u0&#45;&gt;84743568 -->\n<g id=\"edge4\" class=\"edge\">\n<title>_84142752_u0-&gt;84743568:u0</title>\n<path fill=\"none\" stroke=\"blue\" d=\"M86.83,-343.71C94.32,-316.09 112.61,-266.11 148.22,-258.1\"/>\n<polygon fill=\"blue\" stroke=\"blue\" points=\"148.64,-261.57 158.19,-257 147.87,-254.62 148.64,-261.57\"/>\n</g>\n<!-- _84142752_y0 -->\n<g id=\"node2\" class=\"node\">\n<title>_84142752_y0</title>\n<ellipse fill=\"none\" stroke=\"green\" cx=\"1356.23\" cy=\"-415\" rx=\"89.08\" ry=\"18\"/>\n<text text-anchor=\"middle\" x=\"1356.23\" y=\"-411.3\" font-family=\"Times,serif\" font-size=\"14.00\">continuous_state</text>\n</g>\n<!-- 76053488 -->\n<g id=\"node7\" class=\"node\">\n<title>76053488</title>\n<polygon fill=\"none\" stroke=\"black\" points=\"1495.78,-432 1495.78,-478 1620.78,-478 1620.78,-432 1495.78,-432\"/>\n<text text-anchor=\"middle\" x=\"1558.28\" y=\"-462.8\" font-family=\"Times,serif\" font-size=\"14.00\">LQR Controller</text>\n<polyline fill=\"none\" stroke=\"black\" points=\"1495.78,-455 1620.78,-455 \"/>\n<text text-anchor=\"middle\" x=\"1527.28\" y=\"-439.8\" font-family=\"Times,serif\" font-size=\"14.00\">u0</text>\n<polyline fill=\"none\" stroke=\"black\" points=\"1558.78,-432 1558.78,-455 \"/>\n<text text-anchor=\"middle\" x=\"1589.78\" y=\"-439.8\" font-family=\"Times,serif\" font-size=\"14.00\">y0</text>\n</g>\n<!-- _84142752_y0&#45;&gt;76053488 -->\n<g id=\"edge7\" class=\"edge\">\n<title>_84142752_y0-&gt;76053488:u0</title>\n<path fill=\"none\" stroke=\"black\" d=\"M1418.17,-428.02C1443.37,-433.33 1469.98,-438.83 1484.21,-441.44\"/>\n<polygon fill=\"black\" stroke=\"black\" points=\"1483.86,-444.93 1494.28,-443 1484.93,-438.01 1483.86,-444.93\"/>\n</g>\n<!-- _84142752_y1 -->\n<g id=\"node3\" class=\"node\">\n<title>_84142752_y1</title>\n<ellipse fill=\"none\" stroke=\"green\" cx=\"1356.23\" cy=\"-361\" rx=\"37.89\" ry=\"18\"/>\n<text text-anchor=\"middle\" x=\"1356.23\" y=\"-357.3\" font-family=\"Times,serif\" font-size=\"14.00\">query</text>\n</g>\n<!-- 84637248 -->\n<g id=\"node8\" class=\"node\">\n<title>84637248</title>\n<polygon fill=\"none\" stroke=\"black\" points=\"1481.28,-350 1481.28,-396 1635.28,-396 1635.28,-350 1481.28,-350\"/>\n<text text-anchor=\"middle\" x=\"1558.28\" y=\"-380.8\" font-family=\"Times,serif\" font-size=\"14.00\">meshcat_visualizer</text>\n<polyline fill=\"none\" stroke=\"black\" points=\"1481.28,-373 1635.28,-373 \"/>\n<text text-anchor=\"middle\" x=\"1547.78\" y=\"-357.8\" font-family=\"Times,serif\" font-size=\"14.00\">geometry_query</text>\n<polyline fill=\"none\" stroke=\"black\" points=\"1614.28,-350 1614.28,-373 \"/>\n<text text-anchor=\"middle\" x=\"1624.78\" y=\"-357.8\" font-family=\"Times,serif\" font-size=\"14.00\"> </text>\n</g>\n<!-- _84142752_y1&#45;&gt;84637248 -->\n<g id=\"edge9\" class=\"edge\">\n<title>_84142752_y1-&gt;84637248:u0</title>\n<path fill=\"none\" stroke=\"black\" d=\"M1394.14,-361C1416.02,-361 1444.58,-361 1471.19,-361\"/>\n<polygon fill=\"black\" stroke=\"black\" points=\"1471.28,-364.5 1481.28,-361 1471.28,-357.5 1471.28,-364.5\"/>\n</g>\n<!-- 82890720 -->\n<g id=\"node4\" class=\"node\">\n<title>82890720</title>\n<polygon fill=\"none\" stroke=\"black\" points=\"341.19,-41 341.19,-455 963.19,-455 963.19,-41 341.19,-41\"/>\n<text text-anchor=\"middle\" x=\"652.19\" y=\"-439.8\" font-family=\"Times,serif\" font-size=\"14.00\">plant</text>\n<polyline fill=\"none\" stroke=\"black\" points=\"341.19,-432 963.19,-432 \"/>\n<text text-anchor=\"middle\" x=\"465.19\" y=\"-395.8\" font-family=\"Times,serif\" font-size=\"14.00\">geometry_query</text>\n<polyline fill=\"none\" stroke=\"black\" points=\"341.19,-367 589.19,-367 \"/>\n<text text-anchor=\"middle\" x=\"465.19\" y=\"-330.8\" font-family=\"Times,serif\" font-size=\"14.00\">WorldModelInstance_actuation</text>\n<polyline fill=\"none\" stroke=\"black\" points=\"341.19,-302 589.19,-302 \"/>\n<text text-anchor=\"middle\" x=\"465.19\" y=\"-265.8\" font-family=\"Times,serif\" font-size=\"14.00\">DefaultModelInstance_actuation</text>\n<polyline fill=\"none\" stroke=\"black\" points=\"341.19,-237 589.19,-237 \"/>\n<text text-anchor=\"middle\" x=\"465.19\" y=\"-200.8\" font-family=\"Times,serif\" font-size=\"14.00\">BallBot_actuation</text>\n<polyline fill=\"none\" stroke=\"black\" points=\"341.19,-172 589.19,-172 \"/>\n<text text-anchor=\"middle\" x=\"465.19\" y=\"-135.8\" font-family=\"Times,serif\" font-size=\"14.00\">applied_generalized_force</text>\n<polyline fill=\"none\" stroke=\"black\" points=\"341.19,-107 589.19,-107 \"/>\n<text text-anchor=\"middle\" x=\"465.19\" y=\"-70.3\" font-family=\"Times,serif\" font-size=\"14.00\">applied_spatial_force</text>\n<polyline fill=\"none\" stroke=\"black\" points=\"589.19,-41 589.19,-432 \"/>\n<text text-anchor=\"middle\" x=\"776.19\" y=\"-416.8\" font-family=\"Times,serif\" font-size=\"14.00\">geometry_pose</text>\n<polyline fill=\"none\" stroke=\"black\" points=\"589.19,-409 963.19,-409 \"/>\n<text text-anchor=\"middle\" x=\"776.19\" y=\"-393.8\" font-family=\"Times,serif\" font-size=\"14.00\">continuous_state</text>\n<polyline fill=\"none\" stroke=\"black\" points=\"589.19,-386 963.19,-386 \"/>\n<text text-anchor=\"middle\" x=\"776.19\" y=\"-370.8\" font-family=\"Times,serif\" font-size=\"14.00\">body_poses</text>\n<polyline fill=\"none\" stroke=\"black\" points=\"589.19,-363 963.19,-363 \"/>\n<text text-anchor=\"middle\" x=\"776.19\" y=\"-347.8\" font-family=\"Times,serif\" font-size=\"14.00\">spatial_velocities</text>\n<polyline fill=\"none\" stroke=\"black\" points=\"589.19,-340 963.19,-340 \"/>\n<text text-anchor=\"middle\" x=\"776.19\" y=\"-324.8\" font-family=\"Times,serif\" font-size=\"14.00\">spatial_accelerations</text>\n<polyline fill=\"none\" stroke=\"black\" points=\"589.19,-317 963.19,-317 \"/>\n<text text-anchor=\"middle\" x=\"776.19\" y=\"-301.8\" font-family=\"Times,serif\" font-size=\"14.00\">generalized_acceleration</text>\n<polyline fill=\"none\" stroke=\"black\" points=\"589.19,-294 963.19,-294 \"/>\n<text text-anchor=\"middle\" x=\"776.19\" y=\"-278.8\" font-family=\"Times,serif\" font-size=\"14.00\">WorldModelInstance_continuous_state</text>\n<polyline fill=\"none\" stroke=\"black\" points=\"589.19,-271 963.19,-271 \"/>\n<text text-anchor=\"middle\" x=\"776.19\" y=\"-255.8\" font-family=\"Times,serif\" font-size=\"14.00\">WorldModelInstance_generalized_acceleration</text>\n<polyline fill=\"none\" stroke=\"black\" points=\"589.19,-248 963.19,-248 \"/>\n<text text-anchor=\"middle\" x=\"776.19\" y=\"-232.8\" font-family=\"Times,serif\" font-size=\"14.00\">DefaultModelInstance_continuous_state</text>\n<polyline fill=\"none\" stroke=\"black\" points=\"589.19,-225 963.19,-225 \"/>\n<text text-anchor=\"middle\" x=\"776.19\" y=\"-209.8\" font-family=\"Times,serif\" font-size=\"14.00\">DefaultModelInstance_generalized_acceleration</text>\n<polyline fill=\"none\" stroke=\"black\" points=\"589.19,-202 963.19,-202 \"/>\n<text text-anchor=\"middle\" x=\"776.19\" y=\"-186.8\" font-family=\"Times,serif\" font-size=\"14.00\">BallBot_continuous_state</text>\n<polyline fill=\"none\" stroke=\"black\" points=\"589.19,-179 963.19,-179 \"/>\n<text text-anchor=\"middle\" x=\"776.19\" y=\"-163.8\" font-family=\"Times,serif\" font-size=\"14.00\">BallBot_generalized_acceleration</text>\n<polyline fill=\"none\" stroke=\"black\" points=\"589.19,-156 963.19,-156 \"/>\n<text text-anchor=\"middle\" x=\"776.19\" y=\"-140.8\" font-family=\"Times,serif\" font-size=\"14.00\">WorldModelInstance_generalized_contact_forces</text>\n<polyline fill=\"none\" stroke=\"black\" points=\"589.19,-133 963.19,-133 \"/>\n<text text-anchor=\"middle\" x=\"776.19\" y=\"-117.8\" font-family=\"Times,serif\" font-size=\"14.00\">DefaultModelInstance_generalized_contact_forces</text>\n<polyline fill=\"none\" stroke=\"black\" points=\"589.19,-110 963.19,-110 \"/>\n<text text-anchor=\"middle\" x=\"776.19\" y=\"-94.8\" font-family=\"Times,serif\" font-size=\"14.00\">BallBot_generalized_contact_forces</text>\n<polyline fill=\"none\" stroke=\"black\" points=\"589.19,-87 963.19,-87 \"/>\n<text text-anchor=\"middle\" x=\"776.19\" y=\"-71.8\" font-family=\"Times,serif\" font-size=\"14.00\">reaction_forces</text>\n<polyline fill=\"none\" stroke=\"black\" points=\"589.19,-64 963.19,-64 \"/>\n<text text-anchor=\"middle\" x=\"776.19\" y=\"-48.8\" font-family=\"Times,serif\" font-size=\"14.00\">contact_results</text>\n</g>\n<!-- 82890720&#45;&gt;_84142752_y0 -->\n<g id=\"edge5\" class=\"edge\">\n<title>82890720:y1-&gt;_84142752_y0</title>\n<path fill=\"none\" stroke=\"green\" d=\"M963.19,-398C984.02,-398 979.61,-420.91 999.19,-428 1049.34,-446.16 1185.94,-430.97 1239.19,-428 1249.39,-427.43 1260.07,-426.58 1270.65,-425.58\"/>\n<polygon fill=\"green\" stroke=\"green\" points=\"1271.13,-429.05 1280.74,-424.59 1270.45,-422.09 1271.13,-429.05\"/>\n</g>\n<!-- 84608336 -->\n<g id=\"node5\" class=\"node\">\n<title>84608336</title>\n<polygon fill=\"none\" stroke=\"black\" points=\"999.19,-349.5 999.19,-418.5 1231.19,-418.5 1231.19,-349.5 999.19,-349.5\"/>\n<text text-anchor=\"middle\" x=\"1115.19\" y=\"-403.3\" font-family=\"Times,serif\" font-size=\"14.00\">scene_graph</text>\n<polyline fill=\"none\" stroke=\"black\" points=\"999.19,-395.5 1231.19,-395.5 \"/>\n<text text-anchor=\"middle\" x=\"1045.69\" y=\"-368.8\" font-family=\"Times,serif\" font-size=\"14.00\">plant_pose</text>\n<polyline fill=\"none\" stroke=\"black\" points=\"1092.19,-349.5 1092.19,-395.5 \"/>\n<text text-anchor=\"middle\" x=\"1161.69\" y=\"-380.3\" font-family=\"Times,serif\" font-size=\"14.00\">lcm_visualization</text>\n<polyline fill=\"none\" stroke=\"black\" points=\"1092.19,-372.5 1231.19,-372.5 \"/>\n<text text-anchor=\"middle\" x=\"1161.69\" y=\"-357.3\" font-family=\"Times,serif\" font-size=\"14.00\">query</text>\n</g>\n<!-- 82890720&#45;&gt;84608336 -->\n<g id=\"edge3\" class=\"edge\">\n<title>82890720:y0-&gt;84608336:u0</title>\n<path fill=\"none\" stroke=\"black\" d=\"M963.19,-421C985.99,-421 976.71,-386.12 989.48,-375.22\"/>\n<polygon fill=\"black\" stroke=\"black\" points=\"990.8,-378.47 999.19,-372 988.6,-371.82 990.8,-378.47\"/>\n</g>\n<!-- 84608336&#45;&gt;_84142752_y1 -->\n<g id=\"edge6\" class=\"edge\">\n<title>84608336:y1-&gt;_84142752_y1</title>\n<path fill=\"none\" stroke=\"green\" d=\"M1232.19,-361C1257.29,-361 1285.27,-361 1308.2,-361\"/>\n<polygon fill=\"green\" stroke=\"green\" points=\"1308.35,-364.5 1318.35,-361 1308.35,-357.5 1308.35,-364.5\"/>\n</g>\n<!-- 84608336&#45;&gt;82890720 -->\n<g id=\"edge1\" class=\"edge\">\n<title>84608336:y1-&gt;82890720:u0</title>\n<path fill=\"none\" stroke=\"black\" d=\"M1162.19,-348C1162.19,-275.55 1057.92,-306.58 999.19,-349 958.69,-378.25 1003.79,-426.37 963.19,-455.5 956.17,-460.54 347.36,-461.55 341.19,-455.5 326.48,-441.05 318.43,-411.98 330.59,-402.82\"/>\n<polygon fill=\"black\" stroke=\"black\" points=\"331.59,-406.18 340.19,-400 329.61,-399.46 331.59,-406.18\"/>\n</g>\n<!-- 84743568&#45;&gt;82890720 -->\n<g id=\"edge2\" class=\"edge\">\n<title>84743568:y0-&gt;82890720:u3</title>\n<path fill=\"none\" stroke=\"black\" d=\"M305.19,-257C329.44,-257 317.85,-218.57 331.46,-207.16\"/>\n<polygon fill=\"black\" stroke=\"black\" points=\"332.76,-210.41 341.19,-204 330.6,-203.75 332.76,-210.41\"/>\n</g>\n<!-- 76053488&#45;&gt;_84142752_u0 -->\n<g id=\"edge8\" class=\"edge\">\n<title>76053488:y0-&gt;_84142752_u0</title>\n<path fill=\"none\" stroke=\"black\" d=\"M1590.28,-431C1590.28,-389 1534.32,-415.31 1495.78,-432 1475.44,-440.81 1481.57,-459.1 1461.28,-468 1320.8,-529.64 1269.59,-475 1116.19,-475 651.19,-475 651.19,-475 651.19,-475 428.95,-475 345.67,-575.57 151.19,-468 120.88,-451.23 101.85,-414.78 91.73,-389.33\"/>\n<polygon fill=\"black\" stroke=\"black\" points=\"94.96,-387.97 88.16,-379.85 88.41,-390.44 94.96,-387.97\"/>\n</g>\n</g>\n</svg>"
     },
     "metadata": {},
     "output_type": "display_data"
    }
   ],
   "execution_count": null
  },
  {
   "cell_type": "code",
   "source": "",
   "metadata": {
    "tags": [],
    "cell_id": "00015-14bfdd08-039c-44c4-9201-c63d42057168",
    "deepnote_cell_type": "code"
   },
   "outputs": [],
   "execution_count": null
  },
  {
   "cell_type": "markdown",
   "source": "<a style='text-decoration:none;line-height:16px;display:flex;color:#5B5B62;padding:10px;justify-content:end;' href='https://deepnote.com?utm_source=created-in-deepnote-cell&projectId=5fd8e1d3-71c2-47d4-871c-7eed4e2b387c' target=\"_blank\">\n<img alt='Created in deepnote.com' style='display:inline;max-height:16px;margin:0px;margin-right:7.5px;' src='data:image/svg+xml;base64,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' > </img>\nCreated in <span style='font-weight:600;margin-left:4px;'>Deepnote</span></a>",
   "metadata": {
    "tags": [],
    "created_in_deepnote_cell": true,
    "deepnote_cell_type": "markdown"
   }
  }
 ],
 "nbformat": 4,
 "nbformat_minor": 0,
 "metadata": {
  "kernelspec": {
   "display_name": "Python 3",
   "language": "python",
   "name": "python3"
  },
  "language_info": {
   "codemirror_mode": {
    "name": "ipython",
    "version": 3
   },
   "file_extension": ".py",
   "mimetype": "text/x-python",
   "name": "python",
   "nbconvert_exporter": "python",
   "pygments_lexer": "ipython3",
   "version": "3.6.9"
  },
  "colab": {
   "name": "acrobot.ipynb",
   "provenance": []
  },
  "deepnote_notebook_id": "4584f2c7-7714-498b-8d51-9ebb492ebfc3",
  "deepnote": {},
  "deepnote_execution_queue": []
 }
}