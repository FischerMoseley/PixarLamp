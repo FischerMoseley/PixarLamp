{
 "cells": [
  {
   "cell_type": "markdown",
   "source": "## Setup Environment",
   "metadata": {
    "tags": [],
    "cell_id": "00000-efab3651-75d3-45a1-bcf8-117e42116467",
    "deepnote_cell_type": "markdown"
   }
  },
  {
   "cell_type": "code",
   "metadata": {
    "id": "jlSkYfowTxsP",
    "outputId": "8c72269e-26b0-4a39-fac9-63984f2d3381",
    "colab": {
     "base_uri": "https://localhost:8080/"
    },
    "cell_id": "00001-7f389957-c695-48f2-8ce4-f16af6d7ee4b",
    "deepnote_to_be_reexecuted": false,
    "source_hash": "8129ef5a",
    "execution_start": 1636842241580,
    "execution_millis": 1705,
    "deepnote_cell_type": "code"
   },
   "source": "# start meshcat server\nfrom meshcat.servers.zmqserver import start_zmq_server_as_subprocess\nproc, zmq_url, web_url = start_zmq_server_as_subprocess(server_args=['--ngrok_http_tunnel'])\n\nimport numpy as np\nfrom IPython.display import display, SVG, HTML\nimport pydot\n\nimport pydrake.all\n\nfrom pydrake.all import (\n    DiagramBuilder, LinearQuadraticRegulator, Saturation, SceneGraph, Simulator, le, \n    WrapToSystem, AddMultibodyPlantSceneGraph, Parser, MathematicalProgram, eq, PiecewisePolynomial, SnoptSolver, Solve\n)\n\nfrom pydrake.systems.primitives import ConstantVectorSource\nfrom pydrake.autodiffutils import AutoDiffXd\nfrom pydrake.multibody.tree import MultibodyForces_\nfrom pydrake.multibody.plant import MultibodyPlant_\nfrom pydrake.symbolic import Expression",
   "execution_count": 1,
   "outputs": []
  },
  {
   "cell_type": "markdown",
   "source": "# Luxo Dynamics\n\nLoaded from an `.urdf` file. ",
   "metadata": {
    "id": "IDyBLmK1TxsR",
    "cell_id": "00002-096d8b4d-4ac0-4ce6-9648-ef8a52f4bc2e",
    "deepnote_cell_type": "markdown"
   }
  },
  {
   "cell_type": "code",
   "metadata": {
    "id": "goS75r2xTxsR",
    "cell_id": "00003-b6bc683b-b2b4-4c76-9050-dae3acd207bb",
    "deepnote_to_be_reexecuted": false,
    "source_hash": "ca28eaaf",
    "execution_start": 1636843686560,
    "execution_millis": 5569,
    "deepnote_cell_type": "code"
   },
   "source": "builder = DiagramBuilder()\nluxo, scene_graph = AddMultibodyPlantSceneGraph(builder, time_step=0.0)\nParser(luxo).AddModelFromFile(\"luxo.urdf\")\nluxo.Finalize()\nluxo.set_name('luxo')\n\n# Setup visualization\nvisualizer = pydrake.systems.meshcat_visualizer.ConnectMeshcatVisualizer(\n    builder, \n    scene_graph=scene_graph, \n    zmq_url=zmq_url)\n#visualizer.vis.delete()\n#visualizer.set_planar_viewpoint(xmin=-4, xmax=4, ymin=-4, ymax=4)\n\n# Setup torque input\nu = np.array([0,0])\ntorque_system = builder.AddSystem(ConstantVectorSource(u))\nbuilder.Connect(torque_system.get_output_port(0), luxo.get_input_port(3))\n\ndiagram = builder.Build()\n\n# For reference, let's draw the diagram we've assembled:\ndisplay(SVG(pydot.graph_from_dot_data(diagram.GetGraphvizString())[0].create_svg()))\n\n# Set up a simulator to run this diagram\nsimulator = Simulator(diagram)\ncontext = simulator.get_mutable_context()\n\n# Set the initial conditions\ncontext.SetContinuousState([0, 1, -2, 0, 0, 0]) # y, theta1, theta2, ydot, theta1dot, theta2dot?\ncontext.SetTime(0.0)\n\nsimulator.set_target_realtime_rate(1.0)\n\nwhile True:\n    simulator.AdvanceTo(simulator.get_context().get_time() + 1.0)\n\n",
   "execution_count": 13,
   "outputs": [
    {
     "name": "stdout",
     "text": "Connecting to meshcat-server at zmq_url=tcp://127.0.0.1:6004...\nYou can open the visualizer by visiting the following URL:\nhttp://2809-35-171-17-88.ngrok.io/static/\nConnected to meshcat-server.\n",
     "output_type": "stream"
    },
    {
     "data": {
      "text/plain": "<IPython.core.display.SVG object>",
      "image/svg+xml": "<svg xmlns=\"http://www.w3.org/2000/svg\" xmlns:xlink=\"http://www.w3.org/1999/xlink\" width=\"1641pt\" height=\"495pt\" viewBox=\"0.00 0.00 1641.00 495.00\">\n<g id=\"graph0\" class=\"graph\" transform=\"scale(1 1) rotate(0) translate(4 491)\">\n<title>_62650160</title>\n<polygon fill=\"white\" stroke=\"transparent\" points=\"-4,4 -4,-491 1637,-491 1637,4 -4,4\"/>\n<g id=\"clust1\" class=\"cluster\">\n<title>cluster62650160diagram</title>\n<polygon fill=\"none\" stroke=\"black\" points=\"8,-8 8,-479 1625,-479 1625,-8 8,-8\"/>\n<text text-anchor=\"middle\" x=\"816.5\" y=\"-463.8\" font-family=\"Times,serif\" font-size=\"14.00\">62650160</text>\n</g>\n<g id=\"clust4\" class=\"cluster\">\n<title>cluster62650160subsystems</title>\n<polygon fill=\"none\" stroke=\"white\" points=\"16,-16 16,-448 1617,-448 1617,-16 16,-16\"/>\n</g>\n<!-- 29398752 -->\n<g id=\"node1\" class=\"node\">\n<title>29398752</title>\n<polygon fill=\"none\" stroke=\"black\" points=\"503,-25 503,-439 1151,-439 1151,-25 503,-25\"/>\n<text text-anchor=\"middle\" x=\"827\" y=\"-423.8\" font-family=\"Times,serif\" font-size=\"14.00\">luxo</text>\n<polyline fill=\"none\" stroke=\"black\" points=\"503,-416 1151,-416 \"/>\n<text text-anchor=\"middle\" x=\"633.5\" y=\"-379.8\" font-family=\"Times,serif\" font-size=\"14.00\">geometry_query</text>\n<polyline fill=\"none\" stroke=\"black\" points=\"503,-351 764,-351 \"/>\n<text text-anchor=\"middle\" x=\"633.5\" y=\"-314.8\" font-family=\"Times,serif\" font-size=\"14.00\">WorldModelInstance_actuation</text>\n<polyline fill=\"none\" stroke=\"black\" points=\"503,-286 764,-286 \"/>\n<text text-anchor=\"middle\" x=\"633.5\" y=\"-249.8\" font-family=\"Times,serif\" font-size=\"14.00\">DefaultModelInstance_actuation</text>\n<polyline fill=\"none\" stroke=\"black\" points=\"503,-221 764,-221 \"/>\n<text text-anchor=\"middle\" x=\"633.5\" y=\"-184.8\" font-family=\"Times,serif\" font-size=\"14.00\">SimpleDoublePendulum_actuation</text>\n<polyline fill=\"none\" stroke=\"black\" points=\"503,-156 764,-156 \"/>\n<text text-anchor=\"middle\" x=\"633.5\" y=\"-119.8\" font-family=\"Times,serif\" font-size=\"14.00\">applied_generalized_force</text>\n<polyline fill=\"none\" stroke=\"black\" points=\"503,-91 764,-91 \"/>\n<text text-anchor=\"middle\" x=\"633.5\" y=\"-54.3\" font-family=\"Times,serif\" font-size=\"14.00\">applied_spatial_force</text>\n<polyline fill=\"none\" stroke=\"black\" points=\"764,-25 764,-416 \"/>\n<text text-anchor=\"middle\" x=\"957.5\" y=\"-400.8\" font-family=\"Times,serif\" font-size=\"14.00\">geometry_pose</text>\n<polyline fill=\"none\" stroke=\"black\" points=\"764,-393 1151,-393 \"/>\n<text text-anchor=\"middle\" x=\"957.5\" y=\"-377.8\" font-family=\"Times,serif\" font-size=\"14.00\">continuous_state</text>\n<polyline fill=\"none\" stroke=\"black\" points=\"764,-370 1151,-370 \"/>\n<text text-anchor=\"middle\" x=\"957.5\" y=\"-354.8\" font-family=\"Times,serif\" font-size=\"14.00\">body_poses</text>\n<polyline fill=\"none\" stroke=\"black\" points=\"764,-347 1151,-347 \"/>\n<text text-anchor=\"middle\" x=\"957.5\" y=\"-331.8\" font-family=\"Times,serif\" font-size=\"14.00\">spatial_velocities</text>\n<polyline fill=\"none\" stroke=\"black\" points=\"764,-324 1151,-324 \"/>\n<text text-anchor=\"middle\" x=\"957.5\" y=\"-308.8\" font-family=\"Times,serif\" font-size=\"14.00\">spatial_accelerations</text>\n<polyline fill=\"none\" stroke=\"black\" points=\"764,-301 1151,-301 \"/>\n<text text-anchor=\"middle\" x=\"957.5\" y=\"-285.8\" font-family=\"Times,serif\" font-size=\"14.00\">generalized_acceleration</text>\n<polyline fill=\"none\" stroke=\"black\" points=\"764,-278 1151,-278 \"/>\n<text text-anchor=\"middle\" x=\"957.5\" y=\"-262.8\" font-family=\"Times,serif\" font-size=\"14.00\">WorldModelInstance_continuous_state</text>\n<polyline fill=\"none\" stroke=\"black\" points=\"764,-255 1151,-255 \"/>\n<text text-anchor=\"middle\" x=\"957.5\" y=\"-239.8\" font-family=\"Times,serif\" font-size=\"14.00\">WorldModelInstance_generalized_acceleration</text>\n<polyline fill=\"none\" stroke=\"black\" points=\"764,-232 1151,-232 \"/>\n<text text-anchor=\"middle\" x=\"957.5\" y=\"-216.8\" font-family=\"Times,serif\" font-size=\"14.00\">DefaultModelInstance_continuous_state</text>\n<polyline fill=\"none\" stroke=\"black\" points=\"764,-209 1151,-209 \"/>\n<text text-anchor=\"middle\" x=\"957.5\" y=\"-193.8\" font-family=\"Times,serif\" font-size=\"14.00\">DefaultModelInstance_generalized_acceleration</text>\n<polyline fill=\"none\" stroke=\"black\" points=\"764,-186 1151,-186 \"/>\n<text text-anchor=\"middle\" x=\"957.5\" y=\"-170.8\" font-family=\"Times,serif\" font-size=\"14.00\">SimpleDoublePendulum_continuous_state</text>\n<polyline fill=\"none\" stroke=\"black\" points=\"764,-163 1151,-163 \"/>\n<text text-anchor=\"middle\" x=\"957.5\" y=\"-147.8\" font-family=\"Times,serif\" font-size=\"14.00\">SimpleDoublePendulum_generalized_acceleration</text>\n<polyline fill=\"none\" stroke=\"black\" points=\"764,-140 1151,-140 \"/>\n<text text-anchor=\"middle\" x=\"957.5\" y=\"-124.8\" font-family=\"Times,serif\" font-size=\"14.00\">WorldModelInstance_generalized_contact_forces</text>\n<polyline fill=\"none\" stroke=\"black\" points=\"764,-117 1151,-117 \"/>\n<text text-anchor=\"middle\" x=\"957.5\" y=\"-101.8\" font-family=\"Times,serif\" font-size=\"14.00\">DefaultModelInstance_generalized_contact_forces</text>\n<polyline fill=\"none\" stroke=\"black\" points=\"764,-94 1151,-94 \"/>\n<text text-anchor=\"middle\" x=\"957.5\" y=\"-78.8\" font-family=\"Times,serif\" font-size=\"14.00\">SimpleDoublePendulum_generalized_contact_forces</text>\n<polyline fill=\"none\" stroke=\"black\" points=\"764,-71 1151,-71 \"/>\n<text text-anchor=\"middle\" x=\"957.5\" y=\"-55.8\" font-family=\"Times,serif\" font-size=\"14.00\">reaction_forces</text>\n<polyline fill=\"none\" stroke=\"black\" points=\"764,-48 1151,-48 \"/>\n<text text-anchor=\"middle\" x=\"957.5\" y=\"-32.8\" font-family=\"Times,serif\" font-size=\"14.00\">contact_results</text>\n</g>\n<!-- 60038416 -->\n<g id=\"node2\" class=\"node\">\n<title>60038416</title>\n<polygon fill=\"none\" stroke=\"black\" points=\"1187,-370.5 1187,-439.5 1419,-439.5 1419,-370.5 1187,-370.5\"/>\n<text text-anchor=\"middle\" x=\"1303\" y=\"-424.3\" font-family=\"Times,serif\" font-size=\"14.00\">scene_graph</text>\n<polyline fill=\"none\" stroke=\"black\" points=\"1187,-416.5 1419,-416.5 \"/>\n<text text-anchor=\"middle\" x=\"1233.5\" y=\"-389.8\" font-family=\"Times,serif\" font-size=\"14.00\">plant_pose</text>\n<polyline fill=\"none\" stroke=\"black\" points=\"1280,-370.5 1280,-416.5 \"/>\n<text text-anchor=\"middle\" x=\"1349.5\" y=\"-401.3\" font-family=\"Times,serif\" font-size=\"14.00\">lcm_visualization</text>\n<polyline fill=\"none\" stroke=\"black\" points=\"1280,-393.5 1419,-393.5 \"/>\n<text text-anchor=\"middle\" x=\"1349.5\" y=\"-378.3\" font-family=\"Times,serif\" font-size=\"14.00\">query</text>\n</g>\n<!-- 29398752&#45;&gt;60038416 -->\n<g id=\"edge3\" class=\"edge\">\n<title>29398752:y0-&gt;60038416:u0</title>\n<path fill=\"none\" stroke=\"black\" d=\"M1151,-405C1163.78,-405 1168.18,-398.11 1176.9,-394.77\"/>\n<polygon fill=\"black\" stroke=\"black\" points=\"1177.75,-398.17 1187,-393 1176.55,-391.28 1177.75,-398.17\"/>\n</g>\n<!-- 60038416&#45;&gt;29398752 -->\n<g id=\"edge1\" class=\"edge\">\n<title>60038416:y1-&gt;29398752:u0</title>\n<path fill=\"none\" stroke=\"black\" d=\"M1350,-369C1350,-296.55 1248.78,-332.16 1187,-370 1157.33,-388.17 1180.72,-421.42 1151,-439.5 1089.48,-476.91 554.37,-489.95 503,-439.5 488.29,-425.05 480.23,-395.98 492.4,-386.82\"/>\n<polygon fill=\"black\" stroke=\"black\" points=\"493.39,-390.18 502,-384 491.42,-383.46 493.39,-390.18\"/>\n</g>\n<!-- 61556864 -->\n<g id=\"node3\" class=\"node\">\n<title>61556864</title>\n<polygon fill=\"none\" stroke=\"black\" points=\"1455,-371 1455,-417 1609,-417 1609,-371 1455,-371\"/>\n<text text-anchor=\"middle\" x=\"1532\" y=\"-401.8\" font-family=\"Times,serif\" font-size=\"14.00\">meshcat_visualizer</text>\n<polyline fill=\"none\" stroke=\"black\" points=\"1455,-394 1609,-394 \"/>\n<text text-anchor=\"middle\" x=\"1521.5\" y=\"-378.8\" font-family=\"Times,serif\" font-size=\"14.00\">geometry_query</text>\n<polyline fill=\"none\" stroke=\"black\" points=\"1588,-371 1588,-394 \"/>\n<text text-anchor=\"middle\" x=\"1598.5\" y=\"-378.8\" font-family=\"Times,serif\" font-size=\"14.00\"> </text>\n</g>\n<!-- 60038416&#45;&gt;61556864 -->\n<g id=\"edge4\" class=\"edge\">\n<title>60038416:y1-&gt;61556864:u0</title>\n<path fill=\"none\" stroke=\"black\" d=\"M1419,-382C1431,-382 1436.25,-382 1444.88,-382\"/>\n<polygon fill=\"black\" stroke=\"black\" points=\"1445,-385.5 1455,-382 1445,-378.5 1445,-385.5\"/>\n</g>\n<!-- 62364448 -->\n<g id=\"node4\" class=\"node\">\n<title>62364448</title>\n<polygon fill=\"none\" stroke=\"black\" points=\"24,-177 24,-223 467,-223 467,-177 24,-177\"/>\n<text text-anchor=\"middle\" x=\"245.5\" y=\"-207.8\" font-family=\"Times,serif\" font-size=\"14.00\">drake/systems/ConstantVectorSource@0000000003b79b20</text>\n<polyline fill=\"none\" stroke=\"black\" points=\"24,-200 467,-200 \"/>\n<text text-anchor=\"middle\" x=\"131.5\" y=\"-184.8\" font-family=\"Times,serif\" font-size=\"14.00\"> </text>\n<polyline fill=\"none\" stroke=\"black\" points=\"239,-177 239,-200 \"/>\n<text text-anchor=\"middle\" x=\"353\" y=\"-184.8\" font-family=\"Times,serif\" font-size=\"14.00\">y0</text>\n</g>\n<!-- 62364448&#45;&gt;29398752 -->\n<g id=\"edge2\" class=\"edge\">\n<title>62364448:y0-&gt;29398752:u3</title>\n<path fill=\"none\" stroke=\"black\" d=\"M467,-188C479,-188 484.25,-188 492.88,-188\"/>\n<polygon fill=\"black\" stroke=\"black\" points=\"493,-191.5 503,-188 493,-184.5 493,-191.5\"/>\n</g>\n</g>\n</svg>"
     },
     "metadata": {},
     "output_type": "display_data"
    },
    {
     "output_type": "error",
     "ename": "KeyboardInterrupt",
     "evalue": "",
     "traceback": [
      "\u001b[0;31m---------------------------------------------------------------------------\u001b[0m",
      "\u001b[0;31mKeyboardInterrupt\u001b[0m                         Traceback (most recent call last)",
      "\u001b[0;32m<ipython-input-13-347c636a9f40>\u001b[0m in \u001b[0;36m<module>\u001b[0;34m\u001b[0m\n\u001b[1;32m     34\u001b[0m \u001b[0;34m\u001b[0m\u001b[0m\n\u001b[1;32m     35\u001b[0m \u001b[0;32mwhile\u001b[0m \u001b[0;32mTrue\u001b[0m\u001b[0;34m:\u001b[0m\u001b[0;34m\u001b[0m\u001b[0;34m\u001b[0m\u001b[0m\n\u001b[0;32m---> 36\u001b[0;31m     \u001b[0msimulator\u001b[0m\u001b[0;34m.\u001b[0m\u001b[0mAdvanceTo\u001b[0m\u001b[0;34m(\u001b[0m\u001b[0msimulator\u001b[0m\u001b[0;34m.\u001b[0m\u001b[0mget_context\u001b[0m\u001b[0;34m(\u001b[0m\u001b[0;34m)\u001b[0m\u001b[0;34m.\u001b[0m\u001b[0mget_time\u001b[0m\u001b[0;34m(\u001b[0m\u001b[0;34m)\u001b[0m \u001b[0;34m+\u001b[0m \u001b[0;36m1.0\u001b[0m\u001b[0;34m)\u001b[0m\u001b[0;34m\u001b[0m\u001b[0;34m\u001b[0m\u001b[0m\n\u001b[0m\u001b[1;32m     37\u001b[0m \u001b[0;34m\u001b[0m\u001b[0m\n",
      "\u001b[0;31mKeyboardInterrupt\u001b[0m: "
     ]
    }
   ]
  },
  {
   "cell_type": "markdown",
   "source": "# Trajectory Optimization",
   "metadata": {
    "tags": [],
    "is_collapsed": false,
    "cell_id": "00004-9754a1ec-05e0-488d-9dd2-23546b45b810",
    "deepnote_cell_type": "text-cell-h1"
   }
  },
  {
   "cell_type": "code",
   "metadata": {
    "tags": [],
    "cell_id": "00009-44f709b7-61e6-46ce-9316-ec2fd6a7a61f",
    "deepnote_to_be_reexecuted": false,
    "source_hash": "9a638d84",
    "execution_start": 1636844971430,
    "execution_millis": 989,
    "deepnote_cell_type": "code"
   },
   "source": "import math\nimport numpy as np\nimport matplotlib.pyplot as plt\n\nfrom pydrake.all import (DiagramBuilder, DirectCollocation, MultibodyPlant,\n                         MultibodyPositionToGeometryPose, Parser,\n                         PiecewisePolynomial, PlanarSceneGraphVisualizer,\n                         SceneGraph, Simulator, Solve, TrajectorySource,\n                         AddMultibodyPlantSceneGraph, PassThrough, BasicVector)\n\nbuilder = DiagramBuilder()\n\nplant, scene_graph = AddMultibodyPlantSceneGraph(builder, time_step=0.0)\nParser(plant).AddModelFromFile(\"luxo.urdf\")\nplant.Finalize()\n\nbuilder.ExportInput(plant.get_input_port(3))\ndiagram = builder.Build()\ndisplay(SVG(pydot.graph_from_dot_data(diagram.GetGraphvizString())[0].create_svg()))\n\ncontext = diagram.CreateDefaultContext()\ndircol = DirectCollocation(\n    diagram,\n    context,\n    num_time_samples=21,\n    minimum_timestep=0.1,\n    maximum_timestep=0.4,\n    input_port_index = diagram.get_input_port(0).get_index())\n\ndircol.AddEqualTimeIntervalsConstraints()\n\ninitial_state = (0, 1, -2, 0, 0, 0) # y, theta1, theta2, ydot, theta1dot, theta2dot\ndircol.AddBoundingBoxConstraint(initial_state, initial_state, dircol.initial_state())\n\nfinal_state = (0.5, 0, 0, 0, 0, 0) # y, theta1, theta2, ydot, theta1dot, theta2dot\n#dircol.AddBoundingBoxConstraint(final_state, final_state, dircol.final_state())\n\n\nR = 10  # Cost on input \"effort\".\nu = dircol.input()\nx = dircol.state()\nprint(x)\ndircol.AddRunningCost((R * u[0]**2) + x.dot(x))\n\n# Add a final cost equal to the total duration.\ndircol.AddFinalCost(dircol.time())\n\ninitial_x_trajectory = PiecewisePolynomial.FirstOrderHold(\n    [0., 4.], np.column_stack((initial_state, final_state)))  # yapf: disable\ndircol.SetInitialTrajectory(PiecewisePolynomial(), initial_x_trajectory)\n\nresult = Solve(dircol)\nassert result.is_success()\n\nfig, ax = plt.subplots()\n\nu_trajectory = dircol.ReconstructInputTrajectory(result)\ntimes = np.linspace(u_trajectory.start_time(), u_trajectory.end_time(), 100)\nu_lookup = np.vectorize(u_trajectory.value)\nu_values = u_lookup(times)\n\nax.plot(times, u_values)\nax.set_xlabel(\"time (seconds)\")\nax.set_ylabel(\"force (Newtons)\");",
   "execution_count": 36,
   "outputs": [
    {
     "data": {
      "text/plain": "<IPython.core.display.SVG object>",
      "image/svg+xml": "<svg xmlns=\"http://www.w3.org/2000/svg\" xmlns:xlink=\"http://www.w3.org/1999/xlink\" width=\"1404pt\" height=\"495pt\" viewBox=\"0.00 0.00 1404.46 495.00\">\n<g id=\"graph0\" class=\"graph\" transform=\"scale(1 1) rotate(0) translate(4 491)\">\n<title>_62217248</title>\n<polygon fill=\"white\" stroke=\"transparent\" points=\"-4,4 -4,-491 1400.46,-491 1400.46,4 -4,4\"/>\n<g id=\"clust1\" class=\"cluster\">\n<title>cluster62217248diagram</title>\n<polygon fill=\"none\" stroke=\"black\" points=\"8,-8 8,-479 1388.46,-479 1388.46,-8 8,-8\"/>\n<text text-anchor=\"middle\" x=\"698.23\" y=\"-463.8\" font-family=\"Times,serif\" font-size=\"14.00\">62217248</text>\n</g>\n<g id=\"clust2\" class=\"cluster\">\n<title>cluster62217248inputports</title>\n<polygon fill=\"lightgrey\" stroke=\"lightgrey\" points=\"16,-162 16,-237 428.46,-237 428.46,-162 16,-162\"/>\n<text text-anchor=\"middle\" x=\"222.23\" y=\"-221.8\" font-family=\"Times,serif\" font-size=\"14.00\">input ports</text>\n</g>\n<g id=\"clust4\" class=\"cluster\">\n<title>cluster62217248subsystems</title>\n<polygon fill=\"none\" stroke=\"white\" points=\"448.46,-16 448.46,-448 1380.46,-448 1380.46,-16 448.46,-16\"/>\n</g>\n<!-- _62217248_u0 -->\n<g id=\"node1\" class=\"node\">\n<title>_62217248_u0</title>\n<ellipse fill=\"none\" stroke=\"blue\" cx=\"222.23\" cy=\"-188\" rx=\"198.47\" ry=\"18\"/>\n<text text-anchor=\"middle\" x=\"222.23\" y=\"-184.3\" font-family=\"Times,serif\" font-size=\"14.00\">plant_SimpleDoublePendulum_actuation</text>\n</g>\n<!-- 64050848 -->\n<g id=\"node2\" class=\"node\">\n<title>64050848</title>\n<polygon fill=\"none\" stroke=\"black\" points=\"456.46,-25 456.46,-439 1104.46,-439 1104.46,-25 456.46,-25\"/>\n<text text-anchor=\"middle\" x=\"780.46\" y=\"-423.8\" font-family=\"Times,serif\" font-size=\"14.00\">plant</text>\n<polyline fill=\"none\" stroke=\"black\" points=\"456.46,-416 1104.46,-416 \"/>\n<text text-anchor=\"middle\" x=\"586.96\" y=\"-379.8\" font-family=\"Times,serif\" font-size=\"14.00\">geometry_query</text>\n<polyline fill=\"none\" stroke=\"black\" points=\"456.46,-351 717.46,-351 \"/>\n<text text-anchor=\"middle\" x=\"586.96\" y=\"-314.8\" font-family=\"Times,serif\" font-size=\"14.00\">WorldModelInstance_actuation</text>\n<polyline fill=\"none\" stroke=\"black\" points=\"456.46,-286 717.46,-286 \"/>\n<text text-anchor=\"middle\" x=\"586.96\" y=\"-249.8\" font-family=\"Times,serif\" font-size=\"14.00\">DefaultModelInstance_actuation</text>\n<polyline fill=\"none\" stroke=\"black\" points=\"456.46,-221 717.46,-221 \"/>\n<text text-anchor=\"middle\" x=\"586.96\" y=\"-184.8\" font-family=\"Times,serif\" font-size=\"14.00\">SimpleDoublePendulum_actuation</text>\n<polyline fill=\"none\" stroke=\"black\" points=\"456.46,-156 717.46,-156 \"/>\n<text text-anchor=\"middle\" x=\"586.96\" y=\"-119.8\" font-family=\"Times,serif\" font-size=\"14.00\">applied_generalized_force</text>\n<polyline fill=\"none\" stroke=\"black\" points=\"456.46,-91 717.46,-91 \"/>\n<text text-anchor=\"middle\" x=\"586.96\" y=\"-54.3\" font-family=\"Times,serif\" font-size=\"14.00\">applied_spatial_force</text>\n<polyline fill=\"none\" stroke=\"black\" points=\"717.46,-25 717.46,-416 \"/>\n<text text-anchor=\"middle\" x=\"910.96\" y=\"-400.8\" font-family=\"Times,serif\" font-size=\"14.00\">geometry_pose</text>\n<polyline fill=\"none\" stroke=\"black\" points=\"717.46,-393 1104.46,-393 \"/>\n<text text-anchor=\"middle\" x=\"910.96\" y=\"-377.8\" font-family=\"Times,serif\" font-size=\"14.00\">continuous_state</text>\n<polyline fill=\"none\" stroke=\"black\" points=\"717.46,-370 1104.46,-370 \"/>\n<text text-anchor=\"middle\" x=\"910.96\" y=\"-354.8\" font-family=\"Times,serif\" font-size=\"14.00\">body_poses</text>\n<polyline fill=\"none\" stroke=\"black\" points=\"717.46,-347 1104.46,-347 \"/>\n<text text-anchor=\"middle\" x=\"910.96\" y=\"-331.8\" font-family=\"Times,serif\" font-size=\"14.00\">spatial_velocities</text>\n<polyline fill=\"none\" stroke=\"black\" points=\"717.46,-324 1104.46,-324 \"/>\n<text text-anchor=\"middle\" x=\"910.96\" y=\"-308.8\" font-family=\"Times,serif\" font-size=\"14.00\">spatial_accelerations</text>\n<polyline fill=\"none\" stroke=\"black\" points=\"717.46,-301 1104.46,-301 \"/>\n<text text-anchor=\"middle\" x=\"910.96\" y=\"-285.8\" font-family=\"Times,serif\" font-size=\"14.00\">generalized_acceleration</text>\n<polyline fill=\"none\" stroke=\"black\" points=\"717.46,-278 1104.46,-278 \"/>\n<text text-anchor=\"middle\" x=\"910.96\" y=\"-262.8\" font-family=\"Times,serif\" font-size=\"14.00\">WorldModelInstance_continuous_state</text>\n<polyline fill=\"none\" stroke=\"black\" points=\"717.46,-255 1104.46,-255 \"/>\n<text text-anchor=\"middle\" x=\"910.96\" y=\"-239.8\" font-family=\"Times,serif\" font-size=\"14.00\">WorldModelInstance_generalized_acceleration</text>\n<polyline fill=\"none\" stroke=\"black\" points=\"717.46,-232 1104.46,-232 \"/>\n<text text-anchor=\"middle\" x=\"910.96\" y=\"-216.8\" font-family=\"Times,serif\" font-size=\"14.00\">DefaultModelInstance_continuous_state</text>\n<polyline fill=\"none\" stroke=\"black\" points=\"717.46,-209 1104.46,-209 \"/>\n<text text-anchor=\"middle\" x=\"910.96\" y=\"-193.8\" font-family=\"Times,serif\" font-size=\"14.00\">DefaultModelInstance_generalized_acceleration</text>\n<polyline fill=\"none\" stroke=\"black\" points=\"717.46,-186 1104.46,-186 \"/>\n<text text-anchor=\"middle\" x=\"910.96\" y=\"-170.8\" font-family=\"Times,serif\" font-size=\"14.00\">SimpleDoublePendulum_continuous_state</text>\n<polyline fill=\"none\" stroke=\"black\" points=\"717.46,-163 1104.46,-163 \"/>\n<text text-anchor=\"middle\" x=\"910.96\" y=\"-147.8\" font-family=\"Times,serif\" font-size=\"14.00\">SimpleDoublePendulum_generalized_acceleration</text>\n<polyline fill=\"none\" stroke=\"black\" points=\"717.46,-140 1104.46,-140 \"/>\n<text text-anchor=\"middle\" x=\"910.96\" y=\"-124.8\" font-family=\"Times,serif\" font-size=\"14.00\">WorldModelInstance_generalized_contact_forces</text>\n<polyline fill=\"none\" stroke=\"black\" points=\"717.46,-117 1104.46,-117 \"/>\n<text text-anchor=\"middle\" x=\"910.96\" y=\"-101.8\" font-family=\"Times,serif\" font-size=\"14.00\">DefaultModelInstance_generalized_contact_forces</text>\n<polyline fill=\"none\" stroke=\"black\" points=\"717.46,-94 1104.46,-94 \"/>\n<text text-anchor=\"middle\" x=\"910.96\" y=\"-78.8\" font-family=\"Times,serif\" font-size=\"14.00\">SimpleDoublePendulum_generalized_contact_forces</text>\n<polyline fill=\"none\" stroke=\"black\" points=\"717.46,-71 1104.46,-71 \"/>\n<text text-anchor=\"middle\" x=\"910.96\" y=\"-55.8\" font-family=\"Times,serif\" font-size=\"14.00\">reaction_forces</text>\n<polyline fill=\"none\" stroke=\"black\" points=\"717.46,-48 1104.46,-48 \"/>\n<text text-anchor=\"middle\" x=\"910.96\" y=\"-32.8\" font-family=\"Times,serif\" font-size=\"14.00\">contact_results</text>\n</g>\n<!-- _62217248_u0&#45;&gt;64050848 -->\n<g id=\"edge3\" class=\"edge\">\n<title>_62217248_u0-&gt;64050848:u3</title>\n<path fill=\"none\" stroke=\"blue\" d=\"M420.56,-188C428.86,-188 437.12,-188 445.24,-188\"/>\n<polygon fill=\"blue\" stroke=\"blue\" points=\"445.46,-191.5 455.46,-188 445.46,-184.5 445.46,-191.5\"/>\n</g>\n<!-- 58849168 -->\n<g id=\"node3\" class=\"node\">\n<title>58849168</title>\n<polygon fill=\"none\" stroke=\"black\" points=\"1140.46,-370.5 1140.46,-439.5 1372.46,-439.5 1372.46,-370.5 1140.46,-370.5\"/>\n<text text-anchor=\"middle\" x=\"1256.46\" y=\"-424.3\" font-family=\"Times,serif\" font-size=\"14.00\">scene_graph</text>\n<polyline fill=\"none\" stroke=\"black\" points=\"1140.46,-416.5 1372.46,-416.5 \"/>\n<text text-anchor=\"middle\" x=\"1186.96\" y=\"-389.8\" font-family=\"Times,serif\" font-size=\"14.00\">plant_pose</text>\n<polyline fill=\"none\" stroke=\"black\" points=\"1233.46,-370.5 1233.46,-416.5 \"/>\n<text text-anchor=\"middle\" x=\"1302.96\" y=\"-401.3\" font-family=\"Times,serif\" font-size=\"14.00\">lcm_visualization</text>\n<polyline fill=\"none\" stroke=\"black\" points=\"1233.46,-393.5 1372.46,-393.5 \"/>\n<text text-anchor=\"middle\" x=\"1302.96\" y=\"-378.3\" font-family=\"Times,serif\" font-size=\"14.00\">query</text>\n</g>\n<!-- 64050848&#45;&gt;58849168 -->\n<g id=\"edge1\" class=\"edge\">\n<title>64050848:y0-&gt;58849168:u0</title>\n<path fill=\"none\" stroke=\"black\" d=\"M1104.46,-405C1117.25,-405 1121.64,-398.11 1130.36,-394.77\"/>\n<polygon fill=\"black\" stroke=\"black\" points=\"1131.22,-398.17 1140.46,-393 1130.01,-391.28 1131.22,-398.17\"/>\n</g>\n<!-- 58849168&#45;&gt;64050848 -->\n<g id=\"edge2\" class=\"edge\">\n<title>58849168:y1-&gt;64050848:u0</title>\n<path fill=\"none\" stroke=\"black\" d=\"M1303.46,-369C1303.46,-296.55 1202.25,-332.16 1140.46,-370 1110.8,-388.17 1134.19,-421.42 1104.46,-439.5 1073.71,-458.21 482.15,-464.73 456.46,-439.5 441.75,-425.05 433.7,-395.98 445.86,-386.82\"/>\n<polygon fill=\"black\" stroke=\"black\" points=\"446.86,-390.18 455.46,-384 444.88,-383.46 446.86,-390.18\"/>\n</g>\n</g>\n</svg>"
     },
     "metadata": {},
     "output_type": "display_data"
    },
    {
     "name": "stdout",
     "text": "[Variable('x(0)', Continuous) Variable('x(1)', Continuous)\n Variable('x(2)', Continuous) Variable('x(3)', Continuous)\n Variable('x(4)', Continuous) Variable('x(5)', Continuous)]\n",
     "output_type": "stream"
    },
    {
     "output_type": "error",
     "ename": "AssertionError",
     "evalue": "",
     "traceback": [
      "\u001b[0;31m---------------------------------------------------------------------------\u001b[0m",
      "\u001b[0;31mAssertionError\u001b[0m                            Traceback (most recent call last)",
      "\u001b[0;32m<ipython-input-36-9fe443214d5f>\u001b[0m in \u001b[0;36m<module>\u001b[0;34m\u001b[0m\n\u001b[1;32m     56\u001b[0m \u001b[0;34m\u001b[0m\u001b[0m\n\u001b[1;32m     57\u001b[0m \u001b[0mresult\u001b[0m \u001b[0;34m=\u001b[0m \u001b[0mSolve\u001b[0m\u001b[0;34m(\u001b[0m\u001b[0mdircol\u001b[0m\u001b[0;34m)\u001b[0m\u001b[0;34m\u001b[0m\u001b[0;34m\u001b[0m\u001b[0m\n\u001b[0;32m---> 58\u001b[0;31m \u001b[0;32massert\u001b[0m \u001b[0mresult\u001b[0m\u001b[0;34m.\u001b[0m\u001b[0mis_success\u001b[0m\u001b[0;34m(\u001b[0m\u001b[0;34m)\u001b[0m\u001b[0;34m\u001b[0m\u001b[0;34m\u001b[0m\u001b[0m\n\u001b[0m\u001b[1;32m     59\u001b[0m \u001b[0;34m\u001b[0m\u001b[0m\n\u001b[1;32m     60\u001b[0m \u001b[0mfig\u001b[0m\u001b[0;34m,\u001b[0m \u001b[0max\u001b[0m \u001b[0;34m=\u001b[0m \u001b[0mplt\u001b[0m\u001b[0;34m.\u001b[0m\u001b[0msubplots\u001b[0m\u001b[0;34m(\u001b[0m\u001b[0;34m)\u001b[0m\u001b[0;34m\u001b[0m\u001b[0;34m\u001b[0m\u001b[0m\n",
      "\u001b[0;31mAssertionError\u001b[0m: "
     ]
    }
   ]
  },
  {
   "cell_type": "code",
   "metadata": {
    "tags": [],
    "cell_id": "00006-e35e8b7d-ca33-473e-b5c1-aa79a4c10d17",
    "deepnote_to_be_reexecuted": false,
    "source_hash": "fabdab37",
    "execution_start": 1636753030629,
    "execution_millis": 257,
    "deepnote_cell_type": "code"
   },
   "source": "# Animate the results.\nfrom IPython.display import HTML\nfrom underactuated.jupyter import AdvanceToAndVisualize, SetupMatplotlibBackend\nplt_is_interactive = SetupMatplotlibBackend()\n\nx_trajectory = dircol.ReconstructStateTrajectory(result)\n\n# TODO(russt): Add some helper methods to make this workflow cleaner.\nbuilder = DiagramBuilder()\nsource = builder.AddSystem(TrajectorySource(x_trajectory))\nbuilder.AddSystem(scene_graph)\npos_to_pose = builder.AddSystem(\n    MultibodyPositionToGeometryPose(plant, inpssssssssssssssut_multibody_state=True))\nbuilder.Connect(source.get_output_port(0), pos_to_pose.get_input_port())\nbuilder.Connect(pos_to_pose.get_output_port(),\n                scene_graph.get_source_pose_port(plant.get_source_id()))\n\nvisualizer = builder.AddSystem(\n    PlanarSceneGraphVisualizer(scene_graph,\n                               xlim=[-2, 2],\n                               ylim=[-1.25, 2],\n                               show=plt_is_interactive))\nbuilder.Connect(scene_graph.get_pose_bundle_output_port(),\n                visualizer.get_input_port(0))\nsimulator = Simulator(builder.Build())\n\nAdvanceToAndVisualize(simulator, visualizer, x_trajectory.end_time())",
   "execution_count": null,
   "outputs": [
    {
     "output_type": "error",
     "ename": "ModuleNotFoundError",
     "evalue": "No module named 'underactuated'",
     "traceback": [
      "\u001b[0;31m---------------------------------------------------------------------------\u001b[0m",
      "\u001b[0;31mModuleNotFoundError\u001b[0m                       Traceback (most recent call last)",
      "\u001b[0;32m<ipython-input-5-4f9f7aeb8c91>\u001b[0m in \u001b[0;36m<module>\u001b[0;34m\u001b[0m\n\u001b[1;32m      1\u001b[0m \u001b[0;31m# Animate the results.\u001b[0m\u001b[0;34m\u001b[0m\u001b[0;34m\u001b[0m\u001b[0;34m\u001b[0m\u001b[0m\n\u001b[1;32m      2\u001b[0m \u001b[0;32mfrom\u001b[0m \u001b[0mIPython\u001b[0m\u001b[0;34m.\u001b[0m\u001b[0mdisplay\u001b[0m \u001b[0;32mimport\u001b[0m \u001b[0mHTML\u001b[0m\u001b[0;34m\u001b[0m\u001b[0;34m\u001b[0m\u001b[0m\n\u001b[0;32m----> 3\u001b[0;31m \u001b[0;32mfrom\u001b[0m \u001b[0munderactuated\u001b[0m\u001b[0;34m.\u001b[0m\u001b[0mjupyter\u001b[0m \u001b[0;32mimport\u001b[0m \u001b[0mAdvanceToAndVisualize\u001b[0m\u001b[0;34m,\u001b[0m \u001b[0mSetupMatplotlibBackend\u001b[0m\u001b[0;34m\u001b[0m\u001b[0;34m\u001b[0m\u001b[0m\n\u001b[0m\u001b[1;32m      4\u001b[0m \u001b[0mplt_is_interactive\u001b[0m \u001b[0;34m=\u001b[0m \u001b[0mSetupMatplotlibBackend\u001b[0m\u001b[0;34m(\u001b[0m\u001b[0;34m)\u001b[0m\u001b[0;34m\u001b[0m\u001b[0;34m\u001b[0m\u001b[0m\n\u001b[1;32m      5\u001b[0m \u001b[0;34m\u001b[0m\u001b[0m\n",
      "\u001b[0;31mModuleNotFoundError\u001b[0m: No module named 'underactuated'"
     ]
    }
   ]
  },
  {
   "cell_type": "code",
   "metadata": {
    "tags": [],
    "cell_id": "00007-ebd3ce54-a5d1-4d7f-921b-96b1e740900f",
    "deepnote_cell_type": "code"
   },
   "source": "",
   "execution_count": null,
   "outputs": []
  },
  {
   "cell_type": "markdown",
   "source": "<a style='text-decoration:none;line-height:16px;display:flex;color:#5B5B62;padding:10px;justify-content:end;' href='https://deepnote.com?utm_source=created-in-deepnote-cell&projectId=5fd8e1d3-71c2-47d4-871c-7eed4e2b387c' target=\"_blank\">\n<img alt='Created in deepnote.com' style='display:inline;max-height:16px;margin:0px;margin-right:7.5px;' src='data:image/svg+xml;base64,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' > </img>\nCreated in <span style='font-weight:600;margin-left:4px;'>Deepnote</span></a>",
   "metadata": {
    "tags": [],
    "created_in_deepnote_cell": true,
    "deepnote_cell_type": "markdown"
   }
  }
 ],
 "nbformat": 4,
 "nbformat_minor": 0,
 "metadata": {
  "kernelspec": {
   "display_name": "Python 3",
   "language": "python",
   "name": "python3"
  },
  "language_info": {
   "codemirror_mode": {
    "name": "ipython",
    "version": 3
   },
   "file_extension": ".py",
   "mimetype": "text/x-python",
   "name": "python",
   "nbconvert_exporter": "python",
   "pygments_lexer": "ipython3",
   "version": "3.6.9"
  },
  "colab": {
   "name": "acrobot.ipynb",
   "provenance": []
  },
  "deepnote_notebook_id": "4584f2c7-7714-498b-8d51-9ebb492ebfc3",
  "deepnote": {},
  "deepnote_execution_queue": []
 }
}